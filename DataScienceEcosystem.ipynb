{
 "cells": [
  {
   "cell_type": "markdown",
   "id": "82dfe5ba-2bb2-4351-9e20-ad0f57db351e",
   "metadata": {},
   "source": [
    "# Data Science Tools and Ecosystem"
   ]
  },
  {
   "cell_type": "markdown",
   "id": "8f4afacd-4cea-4108-91c9-50f9b6558b9e",
   "metadata": {},
   "source": [
    "In this notebook, Data Science Tools and Ecosystem are summarized.\n"
   ]
  },
  {
   "cell_type": "markdown",
   "id": "2d17fab3-1a53-4cb8-9cbc-488135cd1418",
   "metadata": {},
   "source": [
    "**Objectives:**\n",
    "- List popular languages for Data Science\n",
    "- list common libraries for Data Science\n",
    "- List Data Science tools\n",
    "- Examples of eavaluating math expressions\n",
    "  "
   ]
  },
  {
   "cell_type": "markdown",
   "id": "c26c474a-75d9-45b2-9acf-f37a24c972cc",
   "metadata": {},
   "source": [
    "Some of the popular languages that Data Scientists use are:\n",
    "1.  Python\n",
    "2.  R\n",
    "3. C++\n",
    "4. Jave"
   ]
  },
  {
   "cell_type": "markdown",
   "id": "b16f21bf-d253-4df3-bc45-0b6f89db52b4",
   "metadata": {},
   "source": [
    "Some of the commonly used libraries used by Data Scientists include:\n",
    "1. Numpy\n",
    "2. Pandas\n",
    "3. Scikit-learn\n",
    "4. Matplotlib \r\n"
   ]
  },
  {
   "cell_type": "markdown",
   "id": "ea88afc6-1107-4c95-b771-94397112f3f9",
   "metadata": {},
   "source": [
    "|Data Science Tool|\n",
    "|---|\n",
    "|Jupyter Notebooks|\n",
    "|RStudio|\n",
    "|Apache Spark|"
   ]
  },
  {
   "cell_type": "markdown",
   "id": "d006d4d7-289b-4c27-ba9d-09269ff10c34",
   "metadata": {},
   "source": [
    "### Below are a few examples of evaluating arithmetic expressions in Python\r\n"
   ]
  },
  {
   "cell_type": "code",
   "execution_count": 1,
   "id": "4e506e22-11e8-47fc-a81d-095326d1e8b2",
   "metadata": {},
   "outputs": [
    {
     "data": {
      "text/plain": [
       "17"
      ]
     },
     "execution_count": 1,
     "metadata": {},
     "output_type": "execute_result"
    }
   ],
   "source": [
    "# This a simple arithmetic expression to mutiply then add integers\n",
    "(3*4)+5"
   ]
  },
  {
   "cell_type": "code",
   "execution_count": 16,
   "id": "52704959-3a1d-44a1-8100-b2c695519277",
   "metadata": {},
   "outputs": [
    {
     "name": "stdout",
     "output_type": "stream",
     "text": [
      "200-minute is equivalent to 3.33 hours\n"
     ]
    }
   ],
   "source": [
    "# This will convert 200 minutes to hours by diving by 60\n",
    "time_minute=200\n",
    "time_hour=time_minute/60\n",
    "time_hour_r=format(time_hour,'.2f')\n",
    "print (\"200-minute is equivalent to\", time_hour_r, \"hours\")"
   ]
  },
  {
   "cell_type": "markdown",
   "id": "f70fd16a-aead-401c-98fb-0403510d1da9",
   "metadata": {},
   "source": [
    "## Author\n",
    "Weixiang Song"
   ]
  }
 ],
 "metadata": {
  "kernelspec": {
   "display_name": "Python 3 (ipykernel)",
   "language": "python",
   "name": "python3"
  },
  "language_info": {
   "codemirror_mode": {
    "name": "ipython",
    "version": 3
   },
   "file_extension": ".py",
   "mimetype": "text/x-python",
   "name": "python",
   "nbconvert_exporter": "python",
   "pygments_lexer": "ipython3",
   "version": "3.11.9"
  }
 },
 "nbformat": 4,
 "nbformat_minor": 5
}
